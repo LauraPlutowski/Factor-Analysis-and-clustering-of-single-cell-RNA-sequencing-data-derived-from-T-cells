{
 "cells": [
  {
   "cell_type": "markdown",
   "id": "69b8e267",
   "metadata": {},
   "source": [
    "# Exploring Cell-Types in UNS data"
   ]
  },
  {
   "cell_type": "markdown",
   "id": "d93bb2bd",
   "metadata": {},
   "source": [
    "The cell annotated as `UNS` by Cano-Gamez et al. were T cells that were neither stimulated by cytokines nor had an activated TCR. To facilitate the analysis, these cells were analyzed seperatly. "
   ]
  },
  {
   "cell_type": "markdown",
   "id": "4e7d4d65",
   "metadata": {},
   "source": [
    "**Loading the necessary libraries**"
   ]
  },
  {
   "cell_type": "code",
   "execution_count": null,
   "id": "d4279fe7",
   "metadata": {},
   "outputs": [],
   "source": [
    "import scanpy as sc\n",
    "import pandas as pd\n",
    "import numpy as np\n",
    "import matplotlib.pyplot as plt"
   ]
  },
  {
   "cell_type": "code",
   "execution_count": null,
   "id": "77ecf68a",
   "metadata": {},
   "outputs": [],
   "source": [
    "# settings can be adapted individually\n",
    "sc.settings.verbosity = 3            \n",
    "sc.logging.print_header()             \n",
    "sc.settings.set_figure_params(dpi = 100, format = 'png')"
   ]
  },
  {
   "cell_type": "markdown",
   "id": "c437fdcf",
   "metadata": {},
   "source": [
    "**Load preprocessed scRNA-seq data** \n",
    "<br>\n",
    "*See notebook \"Data preprocessing\" for this analysis part*"
   ]
  },
  {
   "cell_type": "code",
   "execution_count": null,
   "id": "c30dd37b",
   "metadata": {},
   "outputs": [],
   "source": [
    "canogamez = sc.read_h5ad(\"result_files/canogamez_preprocessing.h5ad\") # change to your data path "
   ]
  },
  {
   "cell_type": "code",
   "execution_count": null,
   "id": "b8dd75d7",
   "metadata": {},
   "outputs": [],
   "source": [
    "# create a path to store the preprocessed file\n",
    "results_file = '/canogamez_UNS.h5ad' # change to your data path "
   ]
  },
  {
   "cell_type": "markdown",
   "id": "5b4717d7",
   "metadata": {},
   "source": [
    "## Dimension Reduction "
   ]
  },
  {
   "cell_type": "markdown",
   "id": "b976efed",
   "metadata": {},
   "source": [
    "### PCA"
   ]
  },
  {
   "cell_type": "code",
   "execution_count": null,
   "id": "31e89d67",
   "metadata": {},
   "outputs": [],
   "source": [
    "sc.tl.pca(canogamez, svd_solver = 'arpack')"
   ]
  },
  {
   "cell_type": "markdown",
   "id": "11d46930",
   "metadata": {},
   "source": [
    "**Separate the data in UNS and stimulated**"
   ]
  },
  {
   "cell_type": "code",
   "execution_count": null,
   "id": "349d3dbb",
   "metadata": {},
   "outputs": [],
   "source": [
    "# select all UNS cells \n",
    "resting = canogamez.obs['cytokine.condition'] == 'UNS'"
   ]
  },
  {
   "cell_type": "code",
   "execution_count": null,
   "id": "3c4a1f0a",
   "metadata": {},
   "outputs": [],
   "source": [
    "# create AnnData consisting only of UNS cells\n",
    "canogamez_uns = canogamez[resting,:]"
   ]
  },
  {
   "cell_type": "markdown",
   "id": "37728098",
   "metadata": {},
   "source": [
    "**Plot PCA**"
   ]
  },
  {
   "cell_type": "code",
   "execution_count": null,
   "id": "a8aac7b2",
   "metadata": {},
   "outputs": [],
   "source": [
    "fig, (ax1, ax2, ax3) = plt.subplots(1,3, figsize = (20,4), gridspec_kw = {'wspace':1})\n",
    "ax1_dict = sc.pl.pca(canogamez_uns, color = 'cell.type', ax = ax1, show = False, annotate_var_explained = True)\n",
    "ax2_dict = sc.pl.pca(canogamez_uns, color = 'cytokine.condition', ax = ax2, \n",
    "                     show = False,annotate_var_explained = True)\n",
    "ax3_dict = sc.pl.pca(canogamez_uns, color = 'donor.id', ax = ax3, show = False, annotate_var_explained = True)"
   ]
  },
  {
   "cell_type": "markdown",
   "id": "4010a512",
   "metadata": {},
   "source": [
    "### UMAP"
   ]
  },
  {
   "cell_type": "code",
   "execution_count": null,
   "id": "dc3d604a",
   "metadata": {},
   "outputs": [],
   "source": [
    "sc.pp.neighbors(canogamez_uns, n_neighbors = 10, n_pcs = 40)\n",
    "sc.tl.umap(canogamez_uns)"
   ]
  },
  {
   "cell_type": "code",
   "execution_count": null,
   "id": "cfc5628b",
   "metadata": {},
   "outputs": [],
   "source": [
    "sc.pl.umap(canogamez_uns, color = ['cytokine.condition', 'cell.type'])"
   ]
  },
  {
   "cell_type": "markdown",
   "id": "a1ab2412",
   "metadata": {},
   "source": [
    "## Louvain Clustering"
   ]
  },
  {
   "cell_type": "markdown",
   "id": "780abcc1",
   "metadata": {},
   "source": [
    "The Louvain algorthim was chosen for clustering as it was used by Cano-Gamez et al. "
   ]
  },
  {
   "cell_type": "markdown",
   "id": "43999a53",
   "metadata": {},
   "source": [
    "**! Caution: Rerunning your code will change the cluster composition due to randomness of the algorthim !**"
   ]
  },
  {
   "cell_type": "code",
   "execution_count": null,
   "id": "0a43f746",
   "metadata": {},
   "outputs": [],
   "source": [
    "sc.tl.louvain(canogamez_uns, key_added = \"louvain_1.0\", random_state = 1)"
   ]
  },
  {
   "cell_type": "code",
   "execution_count": null,
   "id": "6303e601",
   "metadata": {},
   "outputs": [],
   "source": [
    "sc.pl.umap(canogamez_uns, color = ['louvain_1.0', 'cell.type']) "
   ]
  },
  {
   "cell_type": "markdown",
   "id": "4979326e",
   "metadata": {},
   "source": [
    "### Explore the composition of the clusters"
   ]
  },
  {
   "cell_type": "code",
   "execution_count": null,
   "id": "4f0b6115",
   "metadata": {},
   "outputs": [],
   "source": [
    "def count_pie(anndata, clustering, category):\n",
    "\n",
    "    \"\"\"generates a data frame with counts for a specific category within  \n",
    "       the clusters and, plots values as pie chart\"\"\"\n",
    "\n",
    "    # generate data frame with information for cluster\n",
    "    clusters_df = anndata.obs[str(clustering)].to_frame()\n",
    "    clusters_df[str(category)] = anndata.obs[str(category)]\n",
    "\n",
    "    # generate empty dataframe for counted values\n",
    "    number_clusters = len(np.unique(anndata.obs[str(clustering)]))\n",
    "    row_names = list(np.unique(anndata.obs[str(clustering)]))\n",
    "    row_names_long = ['cluster ' + name for name in row_names]\n",
    "    col_names = list(anndata.obs[str(category)].cat.categories)\n",
    "    df_cell_count = pd.DataFrame(0, columns=col_names,\n",
    "    index=row_names_long)\n",
    "\n",
    "    # fill dataframe with counts of the given categorie\n",
    "    for i in range(0, number_clusters):\n",
    "        cluster = clusters_df[str(clustering)] == str(i)\n",
    "        cells_cluster = clusters_df[cluster]\n",
    "        count_cells = cells_cluster.value_counts()\n",
    "        for ic, vc in count_cells.items():\n",
    "            df_cell_count.at['cluster ' + ic[0], ic[1]] = vc\n",
    "\n",
    "    # plot as piechart\n",
    "    from natsort import natsorted\n",
    "\n",
    "    df_cell_count_T = df_cell_count.T\n",
    "    df_cell_count_T\n",
    "    df_cell_count_T.reindex(natsorted(df_cell_count_T.columns, ), axis=1)\n",
    "\n",
    "    amount_plots = len(df_cell_count)\n",
    "    amount_cols = 4\n",
    "    amount_rows = int(np.ceil(amount_plots / amount_cols))\n",
    "    fig, axes = plt.subplots(nrows=amount_rows, ncols=amount_cols,\n",
    "                figsize=(15, 15))\n",
    "    fig.tight_layout()\n",
    "\n",
    "    for index, column in enumerate(df_cell_count_T):\n",
    "        current_ax = axes[index // amount_cols, index % amount_cols]\n",
    "        current_ax.set_title('{}'.format(column))\n",
    "        current_data = df_cell_count_T[column]\n",
    "        current_labels = list(current_data.index)\n",
    "        current_data = list(current_data)\n",
    "        current_ax.pie(current_data, labels=current_labels,\n",
    "        autopct='%1.1f%%', startangle=90)\n",
    "        current_ax.axis('equal')\n",
    "\n",
    "    return df_cell_count, plt.show()"
   ]
  },
  {
   "cell_type": "code",
   "execution_count": null,
   "id": "65608c1f",
   "metadata": {},
   "outputs": [],
   "source": [
    "count_pie(canogamez_uns, 'louvain_1.0', 'cell.type')"
   ]
  },
  {
   "cell_type": "markdown",
   "id": "5bd7769d",
   "metadata": {},
   "source": [
    "Most clusters can be clearly assigned to one particluar cell type. Only cluster 5 seems to conist of a mixture of memory and naive cells. "
   ]
  },
  {
   "cell_type": "markdown",
   "id": "351f0365",
   "metadata": {},
   "source": [
    "### Rank genes "
   ]
  },
  {
   "cell_type": "code",
   "execution_count": null,
   "id": "91ceb94c",
   "metadata": {},
   "outputs": [],
   "source": [
    "sc.tl.rank_genes_groups(canogamez_uns, groupby = 'louvain_1.0', method = 'wilcoxon', use_raw=True)"
   ]
  },
  {
   "cell_type": "code",
   "execution_count": null,
   "id": "c374d80f",
   "metadata": {},
   "outputs": [],
   "source": [
    "sc.tl.dendrogram(canogamez_uns, groupby = 'louvain_1.0')"
   ]
  },
  {
   "cell_type": "code",
   "execution_count": null,
   "id": "6a838ee5",
   "metadata": {},
   "outputs": [],
   "source": [
    "sc.pl.rank_genes_groups_matrixplot(canogamez_uns, n_genes = 3,cmap = 'bwr',\n",
    "                                   standard_scale = \"var\", values_to_plot = 'scores')"
   ]
  },
  {
   "cell_type": "markdown",
   "id": "a61b7521",
   "metadata": {},
   "source": [
    "Mostly ribosomal proteins. No indication of cell types"
   ]
  },
  {
   "cell_type": "markdown",
   "id": "a6d51bd6",
   "metadata": {},
   "source": [
    "## Cluster Annotation"
   ]
  },
  {
   "cell_type": "markdown",
   "id": "66bdb97c",
   "metadata": {},
   "source": [
    "**Annotate naive cells**"
   ]
  },
  {
   "cell_type": "code",
   "execution_count": null,
   "id": "f4b31234",
   "metadata": {},
   "outputs": [],
   "source": [
    "sc.pl.umap(canogamez_uns, color = ['louvain_1.0', 'cell.type'], legend_loc = 'on data') "
   ]
  },
  {
   "cell_type": "markdown",
   "id": "9dfc7ef3",
   "metadata": {},
   "source": [
    "- Cluster 0 and 2 seem to represent the naive cells \n",
    "    - similar gene expression \n",
    "    - about 80 % naive cells\n",
    "- Cluster 7 mostly memory according annotation `cell.type` but similar expression as 0 and 2 -> assign to Tn    \n",
    "- other clusters have to be assigned to nTreg, TCM, TEM and TEMRA as was done in the paper "
   ]
  },
  {
   "cell_type": "markdown",
   "id": "7ef3d0de",
   "metadata": {},
   "source": [
    "### Used marker genes"
   ]
  },
  {
   "cell_type": "markdown",
   "id": "aba9559a",
   "metadata": {},
   "source": [
    "The marker genes from literature are based on the following website: <https://www.biocompare.com/Editorial-Articles/569888-A-Guide-to-T-Cell-Markers/>"
   ]
  },
  {
   "cell_type": "markdown",
   "id": "27752259",
   "metadata": {},
   "source": [
    "|       T cell type /   differentiation state       | Marker genes  mentioned in Cano-Gamez et al. |  \n",
    "|:-------------------------------------------------:|:--------------------------------------------:|\n",
    "| central memory T cells  (Tcm)                     | PASK                                         | \n",
    "| effector memory T cells  (Tem)                    | IL7R, KLRB1, TNFSF13B                        |  \n",
    "| terminally differentiated effector cells  (TEMRA) | CCL4, GZMA                                   |  \n",
    "| natural T regulatory cells (nTreg)                | FOXP3, CTLA4                                 |  "
   ]
  },
  {
   "cell_type": "markdown",
   "id": "c8bdf762",
   "metadata": {},
   "source": [
    "| T cell type /  differentiation state  | Marker genes literature   |  \n",
    "|---------------------------------------|---------------------------|\n",
    "| T naive (Tn)                          | CCR7                      |  \n",
    "| central memory T cells (Tcm)          | FAS, IL2RB, PRDM1         |   \n",
    "| effector memory T cells (Tem)         | CXCR3, ITGAL, CCR5, TBX21 |   "
   ]
  },
  {
   "cell_type": "markdown",
   "id": "b11c474e",
   "metadata": {},
   "source": [
    "### Map marker genes on clusters"
   ]
  },
  {
   "cell_type": "markdown",
   "id": "a7c580aa",
   "metadata": {},
   "source": [
    "TEMRA"
   ]
  },
  {
   "cell_type": "code",
   "execution_count": null,
   "id": "5565d2d9",
   "metadata": {},
   "outputs": [],
   "source": [
    "sc.pl.umap(canogamez_uns, color = ['louvain_1.0', 'GZMA', 'CCL4']) "
   ]
  },
  {
   "cell_type": "markdown",
   "id": "76a5f8a2",
   "metadata": {},
   "source": [
    "-> markers clearly expressed in cluster 5"
   ]
  },
  {
   "cell_type": "markdown",
   "id": "d8981613",
   "metadata": {},
   "source": [
    "nTreg"
   ]
  },
  {
   "cell_type": "code",
   "execution_count": null,
   "id": "0f6165e0",
   "metadata": {},
   "outputs": [],
   "source": [
    "sc.pl.umap(canogamez_uns, color = ['louvain_1.0', 'FOXP3', 'CTLA4'])"
   ]
  },
  {
   "cell_type": "markdown",
   "id": "a5989c94",
   "metadata": {},
   "source": [
    "-> marker genes expressed in cluster 6"
   ]
  },
  {
   "cell_type": "markdown",
   "id": "cffb9cc1",
   "metadata": {},
   "source": [
    "Tn"
   ]
  },
  {
   "cell_type": "code",
   "execution_count": null,
   "id": "a3942405",
   "metadata": {},
   "outputs": [],
   "source": [
    "sc.pl.umap(canogamez_uns, color = ['louvain_1.0',  'CCR7'])"
   ]
  },
  {
   "cell_type": "markdown",
   "id": "18ff3f67",
   "metadata": {},
   "source": [
    "-> marker genes mostly expressed in cluster 0, 2 and 7"
   ]
  },
  {
   "cell_type": "markdown",
   "id": "21797a88",
   "metadata": {},
   "source": [
    "Tcm "
   ]
  },
  {
   "cell_type": "code",
   "execution_count": null,
   "id": "4ca40470",
   "metadata": {},
   "outputs": [],
   "source": [
    "sc.pl.umap(canogamez_uns, color = ['louvain_1.0', 'FAS', 'IL2RB', 'PRDM1', 'PASK'])"
   ]
  },
  {
   "cell_type": "markdown",
   "id": "9578fca5",
   "metadata": {},
   "source": [
    "-> Tcm marker expression present in cluster 3 and 1"
   ]
  },
  {
   "cell_type": "markdown",
   "id": "9ed4a2c3",
   "metadata": {},
   "source": [
    "TEM literature"
   ]
  },
  {
   "cell_type": "code",
   "execution_count": null,
   "id": "3a3743ee",
   "metadata": {},
   "outputs": [],
   "source": [
    "sc.pl.umap(canogamez_uns, color = ['louvain_1.0', 'CXCR3', 'ITGAL', 'CCR5','TBX21'])"
   ]
  },
  {
   "cell_type": "markdown",
   "id": "c30cbbbd",
   "metadata": {},
   "source": [
    "TEM paper"
   ]
  },
  {
   "cell_type": "code",
   "execution_count": null,
   "id": "1de3e638",
   "metadata": {},
   "outputs": [],
   "source": [
    "sc.pl.umap(canogamez_uns, color = ['louvain_1.0', 'IL7R', 'KLRB1', 'TNFSF13B'])"
   ]
  },
  {
   "cell_type": "markdown",
   "id": "212dd11e",
   "metadata": {},
   "source": [
    "-> Tem cells can be assinged to cluster 4"
   ]
  },
  {
   "cell_type": "markdown",
   "id": "8dbb7d81",
   "metadata": {},
   "source": [
    "### Add annotation to AnnData "
   ]
  },
  {
   "cell_type": "markdown",
   "id": "faef7e72",
   "metadata": {},
   "source": [
    "Create annotation"
   ]
  },
  {
   "cell_type": "code",
   "execution_count": null,
   "id": "b35104a7",
   "metadata": {},
   "outputs": [],
   "source": [
    "# adjust to individually identified clusters \n",
    "cluster_annotation = {\n",
    "     '0': 'TN',\n",
    "     '1': 'TCM',\n",
    "     '2': 'TN',\n",
    "     '3': 'TCM',\n",
    "     '4': 'TEM',\n",
    "     '5': 'TEMRA',\n",
    "     '6': 'nTreg',\n",
    "     '7': 'TN'\n",
    "}"
   ]
  },
  {
   "cell_type": "markdown",
   "id": "2400fec5",
   "metadata": {},
   "source": [
    "Add annotation to data"
   ]
  },
  {
   "cell_type": "code",
   "execution_count": null,
   "id": "0d123467",
   "metadata": {},
   "outputs": [],
   "source": [
    "canogamez_uns.obs['cell type'] = canogamez_uns.obs['louvain_1.0'].map(cluster_annotation).astype('category')"
   ]
  },
  {
   "cell_type": "markdown",
   "id": "338b0b74",
   "metadata": {},
   "source": [
    "Plotting"
   ]
  },
  {
   "cell_type": "code",
   "execution_count": null,
   "id": "0b0691c3",
   "metadata": {},
   "outputs": [],
   "source": [
    "sc.pl.umap(canogamez_uns, color = 'cell type', legend_loc = 'on data', title = 'Annotated UNS cells',\n",
    "           frameon = False, legend_fontsize = 10)"
   ]
  },
  {
   "cell_type": "markdown",
   "id": "a0696315",
   "metadata": {},
   "source": [
    "Similar annotation as by Cano-Gamez et al., see: <https://cytokines.cellgeni.sanger.ac.uk/resting>"
   ]
  },
  {
   "cell_type": "markdown",
   "id": "49c51133",
   "metadata": {},
   "source": [
    "### Save data"
   ]
  },
  {
   "cell_type": "code",
   "execution_count": null,
   "id": "4a341b0a",
   "metadata": {},
   "outputs": [],
   "source": [
    "canogamez_uns.write(results_file)"
   ]
  }
 ],
 "metadata": {
  "kernelspec": {
   "display_name": "Python 3",
   "language": "python",
   "name": "python3"
  },
  "language_info": {
   "codemirror_mode": {
    "name": "ipython",
    "version": 3
   },
   "file_extension": ".py",
   "mimetype": "text/x-python",
   "name": "python",
   "nbconvert_exporter": "python",
   "pygments_lexer": "ipython3",
   "version": "3.8.10"
  }
 },
 "nbformat": 4,
 "nbformat_minor": 5
}
