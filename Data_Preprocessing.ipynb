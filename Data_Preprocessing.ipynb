{
 "cells": [
  {
   "cell_type": "markdown",
   "id": "2816def9",
   "metadata": {},
   "source": [
    "# Data Preprocessing"
   ]
  },
  {
   "cell_type": "markdown",
   "id": "bad25207",
   "metadata": {},
   "source": [
    "The data preparation before analysis is based on the following tutorial: <https://nbisweden.github.io/workshop-scRNAseq/labs/compiled/scanpy/scanpy_01_qc.html> and was included here to ensure the reproducability of the analysis. "
   ]
  },
  {
   "cell_type": "markdown",
   "id": "ed98bc37",
   "metadata": {},
   "source": [
    "**Loading the necessary libraries**"
   ]
  },
  {
   "cell_type": "code",
   "execution_count": null,
   "id": "94375c64",
   "metadata": {},
   "outputs": [],
   "source": [
    "import scanpy as sc\n",
    "import pandas as pd\n",
    "import numpy as np"
   ]
  },
  {
   "cell_type": "code",
   "execution_count": null,
   "id": "64ec97cf",
   "metadata": {},
   "outputs": [],
   "source": [
    "# settings can be adapted individually\n",
    "sc.settings.verbosity = 3            \n",
    "sc.logging.print_header()             \n",
    "sc.settings.set_figure_params(dpi = 100, format = 'png')"
   ]
  },
  {
   "cell_type": "markdown",
   "id": "06a68e24",
   "metadata": {},
   "source": [
    "**Load the scRNA-seq data**"
   ]
  },
  {
   "cell_type": "markdown",
   "id": "1c626cb5",
   "metadata": {},
   "source": [
    "Data was taken form the following publication of Cano-Gamez et al.: <https://www.nature.com/articles/s41467-020-15543-y>"
   ]
  },
  {
   "cell_type": "code",
   "execution_count": null,
   "id": "64cfe7f1",
   "metadata": {},
   "outputs": [],
   "source": [
    "canogamez = sc.read_h5ad(\"/corgi/scdata/henriksson/canogamez/cleaned.h5ad\") # change to your data path \n",
    "canogamez.var_names_make_unique()"
   ]
  },
  {
   "cell_type": "code",
   "execution_count": null,
   "id": "d31834b6",
   "metadata": {},
   "outputs": [],
   "source": [
    "# create a path to store the preprocessed file\n",
    "results_file = 'write/canogamez_preprocessing.h5ad' # change to your data path "
   ]
  },
  {
   "cell_type": "markdown",
   "id": "93d26b72",
   "metadata": {},
   "source": [
    "First, the `iTreg` sample derived from `Donor2` was removed due to an unusually high dropout rate as described by Cano-Gamez et al. :  "
   ]
  },
  {
   "cell_type": "code",
   "execution_count": null,
   "id": "5c6e5844",
   "metadata": {},
   "outputs": [],
   "source": [
    "canogamez_D2 = canogamez[(canogamez.obs['donor.id']=='D2')&(canogamez.obs['cytokine.condition']=='iTreg')]\n",
    "remove = canogamez_D2.obs.index.to_list()\n",
    "index = canogamez.obs.index.to_list()\n",
    "keep = list(set(index)-set(remove))"
   ]
  },
  {
   "cell_type": "code",
   "execution_count": null,
   "id": "ebe3bb91",
   "metadata": {},
   "outputs": [],
   "source": [
    "canogamez = canogamez[keep,: ]"
   ]
  },
  {
   "cell_type": "markdown",
   "id": "05e4284f",
   "metadata": {},
   "source": [
    "## Quality Control (QC)"
   ]
  },
  {
   "cell_type": "markdown",
   "id": "b3364ca9",
   "metadata": {},
   "source": [
    "Identify genes belonging to a specific group"
   ]
  },
  {
   "cell_type": "code",
   "execution_count": null,
   "id": "a87de44a",
   "metadata": {},
   "outputs": [],
   "source": [
    " # mitochondrial genes\n",
    "canogamez.var['mt'] = canogamez.var_names.str.startswith('MT-') \n",
    "# ribosomal genes\n",
    "canogamez.var['ribo'] = canogamez.var_names.str.startswith((\"RPS\",\"RPL\"))\n",
    "# hemoglobin genes.\n",
    "canogamez.var['hb'] = canogamez.var_names.str.contains((\"^HB[^(P)]\"))"
   ]
  },
  {
   "cell_type": "markdown",
   "id": "893d7d2d",
   "metadata": {},
   "source": [
    "Calculate Quality of the data "
   ]
  },
  {
   "cell_type": "markdown",
   "id": "bd08a453",
   "metadata": {},
   "source": [
    "calculation of: \n",
    "- per cell (`.obs`): \n",
    "    - n_genes_by_counts\n",
    "    - total_counts\n",
    "    - mitochondrial genes: total_counts_mt, pct_counts_mt\n",
    "- per gen(`.var`):`\n",
    "    - n_cells_by_counts\n",
    "    - mean_counts,total_counts\n",
    "    - pct_dropout_by_counts = percentage of cells with counts of zero for each gene\n",
    "    "
   ]
  },
  {
   "cell_type": "code",
   "execution_count": null,
   "id": "0b5ecb71",
   "metadata": {},
   "outputs": [],
   "source": [
    "sc.pp.calculate_qc_metrics(canogamez, qc_vars=['mt','ribo','hb'], percent_top=None, log1p=False, inplace=True) "
   ]
  },
  {
   "cell_type": "markdown",
   "id": "bce353df",
   "metadata": {},
   "source": [
    "Plot QC "
   ]
  },
  {
   "cell_type": "code",
   "execution_count": null,
   "id": "425a7c06",
   "metadata": {},
   "outputs": [],
   "source": [
    "sc.pl.violin(canogamez, ['n_genes_by_counts', 'total_counts', 'pct_counts_mt','pct_counts_ribo', 'pct_counts_hb'],\n",
    "             jitter=False, groupby = 'cytokine.condition', rotation= 45, wspace=1)"
   ]
  },
  {
   "cell_type": "markdown",
   "id": "edebed13",
   "metadata": {},
   "source": [
    "## Filtering "
   ]
  },
  {
   "cell_type": "markdown",
   "id": "040d42b6",
   "metadata": {},
   "source": [
    "Set thresholds:"
   ]
  },
  {
   "cell_type": "code",
   "execution_count": null,
   "id": "986eb7a1",
   "metadata": {},
   "outputs": [],
   "source": [
    "sc.pp.filter_cells(canogamez, min_genes=200)\n",
    "sc.pp.filter_genes(canogamez, min_cells=3)"
   ]
  },
  {
   "cell_type": "markdown",
   "id": "5693268c",
   "metadata": {},
   "source": [
    "Highest expressed genes: "
   ]
  },
  {
   "cell_type": "code",
   "execution_count": null,
   "id": "d1a5f98e",
   "metadata": {},
   "outputs": [],
   "source": [
    "sc.pl.highest_expr_genes(canogamez, n_top=20)"
   ]
  },
  {
   "cell_type": "markdown",
   "id": "6318c9c5",
   "metadata": {},
   "source": [
    "Mito/Ribo filtering:"
   ]
  },
  {
   "cell_type": "code",
   "execution_count": null,
   "id": "8273b5c2",
   "metadata": {},
   "outputs": [],
   "source": [
    "canogamez = canogamez[canogamez.obs.pct_counts_mt < 7.5, :]\n",
    "canogamez = canogamez[canogamez.obs.pct_counts_ribo > 5, :]"
   ]
  },
  {
   "cell_type": "markdown",
   "id": "418ea8c1",
   "metadata": {},
   "source": [
    "Filter for UMI content: "
   ]
  },
  {
   "cell_type": "code",
   "execution_count": null,
   "id": "24a76e26",
   "metadata": {},
   "outputs": [],
   "source": [
    "canogamez = canogamez[canogamez.obs.n_genes_by_counts > 500, :]"
   ]
  },
  {
   "cell_type": "markdown",
   "id": "136940cf",
   "metadata": {},
   "source": [
    "Remove mt and hb genes as well as MALAT1 "
   ]
  },
  {
   "cell_type": "markdown",
   "id": "ced40e0f",
   "metadata": {},
   "source": [
    "MALAT1:  act as a transcriptional regulator for numerous genes -> highly expressed in almost every cell and therefore removed from the analysis lateron"
   ]
  },
  {
   "cell_type": "code",
   "execution_count": null,
   "id": "22e05df9",
   "metadata": {},
   "outputs": [],
   "source": [
    "# calculate new as low expressed genes were removed \n",
    "mito_genes = canogamez.var_names.str.startswith('MT-')\n",
    "hb_genes = canogamez.var_names.str.contains('^HB[^(P)]')\n",
    "\n",
    "malat1 = canogamez.var_names.str.startswith('MALAT1')\n",
    "\n",
    "remove = np.add(mito_genes, malat1)\n",
    "remove = np.add(remove, hb_genes)\n",
    "keep = np.invert(remove)\n",
    "\n",
    "canogamez = canogamez[:,keep]"
   ]
  },
  {
   "cell_type": "markdown",
   "id": "9076154d",
   "metadata": {},
   "source": [
    "## Chromosomal Information and Sample Sex"
   ]
  },
  {
   "cell_type": "markdown",
   "id": "45b1fa63",
   "metadata": {},
   "source": [
    "*Note: Not necessary here as only male donors were used. Only for consistency.*"
   ]
  },
  {
   "cell_type": "markdown",
   "id": "7f46100c",
   "metadata": {},
   "source": [
    "Create annotation"
   ]
  },
  {
   "cell_type": "code",
   "execution_count": null,
   "id": "6a61cd41",
   "metadata": {},
   "outputs": [],
   "source": [
    "annot = sc.queries.biomart_annotations(\n",
    "        \"hsapiens\",\n",
    "        [\"ensembl_gene_id\", \"external_gene_name\", \"start_position\", \n",
    "         \"end_position\", \"chromosome_name\"],).set_index(\"external_gene_name\")"
   ]
  },
  {
   "cell_type": "markdown",
   "id": "3dbae85f",
   "metadata": {},
   "source": [
    "Identify chromosome y and x genes"
   ]
  },
  {
   "cell_type": "code",
   "execution_count": null,
   "id": "ca877f01",
   "metadata": {},
   "outputs": [],
   "source": [
    "chrY_genes = canogamez.var_names.intersection(annot.index[annot.chromosome_name == \"Y\"])\n",
    "chrX_genes = canogamez.var_names.intersection(annot.index[annot.chromosome_name == \"XIST\"])"
   ]
  },
  {
   "cell_type": "markdown",
   "id": "f2d1ff10",
   "metadata": {},
   "source": [
    "*Here: no XIST genes present*"
   ]
  },
  {
   "cell_type": "markdown",
   "id": "2ac6e9aa",
   "metadata": {},
   "source": [
    "## Cell Cycle Scores"
   ]
  },
  {
   "cell_type": "markdown",
   "id": "b82ccdda",
   "metadata": {},
   "source": [
    "- score list: difference of mean expression of the given list and the mean expression of reference genes\n",
    "- reference genes: function randomly chooses a bunch of genes matching the distribution of the expression of the given list\n",
    "- adds three more variables to data: \n",
    "    - score for S phase\n",
    "    - a score for G2M phase\n",
    "    - predicted cell cycle phase"
   ]
  },
  {
   "cell_type": "markdown",
   "id": "15849ae8",
   "metadata": {},
   "source": [
    "Normalize data before running"
   ]
  },
  {
   "cell_type": "code",
   "execution_count": null,
   "id": "fdd28f07",
   "metadata": {},
   "outputs": [],
   "source": [
    "# normalize to depth 10 000\n",
    "# Note: Check for mean count depth before by `.obs.describe()`\n",
    "sc.pp.normalize_per_cell(canogamez, counts_per_cell_after=1e4)\n",
    "\n",
    "# save normalized counts as raw data\n",
    "canogamez.raw = canogamez\n",
    "\n",
    "# logaritmize\n",
    "sc.pp.log1p(canogamez)"
   ]
  },
  {
   "cell_type": "markdown",
   "id": "62fa288f",
   "metadata": {},
   "source": [
    "Load all cell cycle genes\n",
    "<br>\n",
    "downloaded here: <https://github.com/theislab/scanpy_usage/blob/master/180209_cell_cycle/data/regev_lab_cell_cycle_genes.txt>"
   ]
  },
  {
   "cell_type": "code",
   "execution_count": null,
   "id": "bfa0d72a",
   "metadata": {},
   "outputs": [],
   "source": [
    "cell_cycle_genes = [x.strip() for x in open('/home/plutowski/notebooks/Markers/regev_lab_cell_cycle_genes.txt')]"
   ]
  },
  {
   "cell_type": "code",
   "execution_count": null,
   "id": "e3306a63",
   "metadata": {},
   "outputs": [],
   "source": [
    "# Split into 2 lists\n",
    "s_genes = cell_cycle_genes[:43]\n",
    "g2m_genes = cell_cycle_genes[43:]"
   ]
  },
  {
   "cell_type": "code",
   "execution_count": null,
   "id": "988a7174",
   "metadata": {},
   "outputs": [],
   "source": [
    "# check how many genes are present in the data \n",
    "cell_cycle_genes = [x for x in cell_cycle_genes if x in canogamez.var_names]\n",
    "print(len(cell_cycle_genes))"
   ]
  },
  {
   "cell_type": "markdown",
   "id": "e16573d9",
   "metadata": {},
   "source": [
    "Calculate and plot score "
   ]
  },
  {
   "cell_type": "code",
   "execution_count": null,
   "id": "212b54fc",
   "metadata": {},
   "outputs": [],
   "source": [
    "sc.tl.score_genes_cell_cycle(canogamez, s_genes=s_genes, g2m_genes=g2m_genes)"
   ]
  },
  {
   "cell_type": "code",
   "execution_count": null,
   "id": "ff3980ed",
   "metadata": {},
   "outputs": [],
   "source": [
    "sc.pl.violin(canogamez, ['S_score', 'G2M_score'],\n",
    "             jitter=False, groupby = 'cytokine.condition', rotation=45, save='cell_cycle_cytokines')"
   ]
  },
  {
   "cell_type": "markdown",
   "id": "ac3abf4f",
   "metadata": {},
   "source": [
    "## Doublet Prediction"
   ]
  },
  {
   "cell_type": "markdown",
   "id": "d33f842b",
   "metadata": {},
   "source": [
    "Import needed library"
   ]
  },
  {
   "cell_type": "code",
   "execution_count": null,
   "id": "b99690fb",
   "metadata": {},
   "outputs": [],
   "source": [
    "import scrublet as scr"
   ]
  },
  {
   "cell_type": "markdown",
   "id": "95b8db6a",
   "metadata": {},
   "source": [
    "Run prediction "
   ]
  },
  {
   "cell_type": "code",
   "execution_count": null,
   "id": "749ead0c",
   "metadata": {},
   "outputs": [],
   "source": [
    "scrub = scr.Scrublet(canogamez.raw.X)\n",
    "canogamez.obs['doublet_scores'], canogamez.obs['predicted_doublets'] = scrub.scrub_doublets()\n",
    "scrub.plot_histogram()\n",
    "\n",
    "sum(canogamez.obs['predicted_doublets'])"
   ]
  },
  {
   "cell_type": "code",
   "execution_count": null,
   "id": "46bdc958",
   "metadata": {},
   "outputs": [],
   "source": [
    "# add in column with doublet info\n",
    "canogamez.obs['doublet_info'] = canogamez.obs[\"predicted_doublets\"].astype(str)"
   ]
  },
  {
   "cell_type": "code",
   "execution_count": null,
   "id": "a8987375",
   "metadata": {},
   "outputs": [],
   "source": [
    "sc.pl.violin(canogamez, 'n_genes_by_counts',\n",
    "             jitter=False, groupby = 'doublet_info', rotation=45)"
   ]
  },
  {
   "cell_type": "markdown",
   "id": "bec5b1ab",
   "metadata": {},
   "source": [
    "*Optional: Doublets can be removed* "
   ]
  },
  {
   "cell_type": "code",
   "execution_count": null,
   "id": "d1587a64",
   "metadata": {},
   "outputs": [],
   "source": [
    "# canogamez = canogamez.raw.to_canogamez() \n",
    "# canogamez = canogamez[canogamez.obs['doublet_info'] == 'False',:]"
   ]
  },
  {
   "cell_type": "markdown",
   "id": "41f0b824",
   "metadata": {},
   "source": [
    "## Highly variable genes"
   ]
  },
  {
   "cell_type": "code",
   "execution_count": null,
   "id": "8e45bd04",
   "metadata": {},
   "outputs": [],
   "source": [
    "sc.pp.highly_variable_genes(canogamez, min_mean=0.0125, max_mean=3, min_disp=0.5)\n",
    "sc.pl.highly_variable_genes(canogamez)"
   ]
  },
  {
   "cell_type": "markdown",
   "id": "5967a901",
   "metadata": {},
   "source": [
    "Take only highly variable genes for the further analysis"
   ]
  },
  {
   "cell_type": "code",
   "execution_count": null,
   "id": "122e5b03",
   "metadata": {},
   "outputs": [],
   "source": [
    "canogamez = canogamez[:, canogamez.var.highly_variable]"
   ]
  },
  {
   "cell_type": "markdown",
   "id": "2dcbdb93",
   "metadata": {},
   "source": [
    "### Further preprocessing"
   ]
  },
  {
   "cell_type": "markdown",
   "id": "a8d69d27",
   "metadata": {},
   "source": [
    "Regress out the effects of number of counts, mt genes, cell cycle and batch.10x"
   ]
  },
  {
   "cell_type": "code",
   "execution_count": null,
   "id": "d7e6f5fb",
   "metadata": {},
   "outputs": [],
   "source": [
    "sc.pp.regress_out(canogamez, ['total_counts', 'pct_counts_mt','batch.10X', 'S_score', 'G2M_score'])"
   ]
  },
  {
   "cell_type": "markdown",
   "id": "53c508a1",
   "metadata": {},
   "source": [
    "Scale for unique variance "
   ]
  },
  {
   "cell_type": "code",
   "execution_count": null,
   "id": "886be286",
   "metadata": {},
   "outputs": [],
   "source": [
    "sc.pp.scale(canogamez, max_value=10)"
   ]
  },
  {
   "cell_type": "markdown",
   "id": "d373a830",
   "metadata": {},
   "source": [
    "### Store the preprocessed data "
   ]
  },
  {
   "cell_type": "code",
   "execution_count": null,
   "id": "1e3a1699",
   "metadata": {},
   "outputs": [],
   "source": [
    "canogamez.write(results_file)"
   ]
  }
 ],
 "metadata": {
  "kernelspec": {
   "display_name": "Python 3",
   "language": "python",
   "name": "python3"
  },
  "language_info": {
   "codemirror_mode": {
    "name": "ipython",
    "version": 3
   },
   "file_extension": ".py",
   "mimetype": "text/x-python",
   "name": "python",
   "nbconvert_exporter": "python",
   "pygments_lexer": "ipython3",
   "version": "3.9.4"
  }
 },
 "nbformat": 4,
 "nbformat_minor": 5
}
