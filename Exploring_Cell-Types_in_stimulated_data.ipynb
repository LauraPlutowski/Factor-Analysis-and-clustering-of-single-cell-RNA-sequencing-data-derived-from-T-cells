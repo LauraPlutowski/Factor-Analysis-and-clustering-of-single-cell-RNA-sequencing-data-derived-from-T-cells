{
 "cells": [
  {
   "cell_type": "markdown",
   "id": "3efffe6e",
   "metadata": {},
   "source": [
    "# Exploring cell-types in stimulated data"
   ]
  },
  {
   "cell_type": "markdown",
   "id": "9f9ab095",
   "metadata": {},
   "source": [
    "The stimulated cells part of the Cano-Gamez et al. data contains T cells that were activated by anti-Cd3/CD28 beads. Cytokines were added to force the development of subtypes. "
   ]
  },
  {
   "cell_type": "markdown",
   "id": "bad0f5c6",
   "metadata": {},
   "source": [
    "| Annotation ‘cytokine.condition’ | TCR activation / anti-CD3/anti-CD28 beads |                         Added Cytokines                        |\n",
    "|:-------------------------------:|:-----------------------------------------:|:--------------------------------------------------------------:|\n",
    "|               UNS               |                     No                    |                              None                              |\n",
    "|               Th0               |                    Yes                    |                              None                              |\n",
    "|               Th2               |                    Yes                    |                      IL4, anti-IFN-\\gamma                      |\n",
    "|               Th17              |                    Yes                    | IL-6, IL-23, IL-1\\beta, TGF-\\beta, anti-IL-4, anti-IFN- \\gamma |\n",
    "|              iTreg              |                    Yes                    |                         TGF-\\beta, IL-2                        |"
   ]
  },
  {
   "cell_type": "markdown",
   "id": "e32a1843",
   "metadata": {},
   "source": [
    "**Loading the necessary libraries**"
   ]
  },
  {
   "cell_type": "code",
   "execution_count": null,
   "id": "65424091",
   "metadata": {},
   "outputs": [],
   "source": [
    "import scanpy as sc\n",
    "import pandas as pd\n",
    "import numpy as np\n",
    "import matplotlib.pyplot as plt"
   ]
  },
  {
   "cell_type": "code",
   "execution_count": null,
   "id": "1f7fbf5c",
   "metadata": {},
   "outputs": [],
   "source": [
    "# settings can be adapted individually\n",
    "sc.settings.verbosity = 3            \n",
    "sc.logging.print_header()             \n",
    "sc.settings.set_figure_params(dpi = 100, format = 'png')"
   ]
  },
  {
   "cell_type": "markdown",
   "id": "eee15eb4",
   "metadata": {},
   "source": [
    "**Load preprocessed scRNA-seq data** \n",
    "<br>\n",
    "*See notebook \"Data preprocessing\" for this analysis part*"
   ]
  },
  {
   "cell_type": "code",
   "execution_count": null,
   "id": "0e71ef0f",
   "metadata": {},
   "outputs": [],
   "source": [
    "canogamez = sc.read_h5ad(\"result_files/canogamez_preprocessing.h5ad\") # change to your data path "
   ]
  },
  {
   "cell_type": "code",
   "execution_count": null,
   "id": "40cd07e6",
   "metadata": {},
   "outputs": [],
   "source": [
    "# create a path to store the preprocessed file\n",
    "results_file = '/canogamez_stim.h5ad' # change to your data path "
   ]
  },
  {
   "cell_type": "markdown",
   "id": "74398fab",
   "metadata": {},
   "source": [
    "**Separate the data in stimulated and UNS cells**"
   ]
  },
  {
   "cell_type": "code",
   "execution_count": null,
   "id": "0907ec11",
   "metadata": {},
   "outputs": [],
   "source": [
    "# select all UNS cells \n",
    "resting = canogamez.obs['cytokine.condition'] == 'UNS'\n",
    "# invert to get stimulated cells \n",
    "stimulated = np.invert(resting)"
   ]
  },
  {
   "cell_type": "code",
   "execution_count": null,
   "id": "8dcfd1f6",
   "metadata": {},
   "outputs": [],
   "source": [
    "# create AnnData consisting only of stimulated cells\n",
    "canogamez_act = canogamez[stimulated,:]"
   ]
  },
  {
   "cell_type": "markdown",
   "id": "a4284648",
   "metadata": {},
   "source": [
    "## Dimension Reduction"
   ]
  },
  {
   "cell_type": "markdown",
   "id": "f513558f",
   "metadata": {},
   "source": [
    "### PCA"
   ]
  },
  {
   "cell_type": "code",
   "execution_count": null,
   "id": "17470c98",
   "metadata": {},
   "outputs": [],
   "source": [
    "sc.tl.pca(canogamez_act, svd_solver = 'arpack')"
   ]
  },
  {
   "cell_type": "code",
   "execution_count": null,
   "id": "e83201fd",
   "metadata": {},
   "outputs": [],
   "source": [
    "fig, (ax1, ax2, ax3) = plt.subplots(1,3, figsize = (20,4), gridspec_kw = {'wspace':1})\n",
    "ax1_dict = sc.pl.pca(canogamez_act, color = 'cell.type', ax = ax1, show = False)\n",
    "ax2_dict = sc.pl.pca(canogamez_act, color = 'cytokine.condition', ax = ax2, show = False)\n",
    "ax3_dict = sc.pl.pca(canogamez_act, color = 'donor.id', ax = ax3, show = False)"
   ]
  },
  {
   "cell_type": "code",
   "execution_count": null,
   "id": "35c3fe3a",
   "metadata": {},
   "outputs": [],
   "source": [
    "sc.pl.pca(canogamez_act, color = 'cytokine.condition', projection = '3d',annotate_var_explained = True)"
   ]
  },
  {
   "cell_type": "code",
   "execution_count": null,
   "id": "b595bd60",
   "metadata": {},
   "outputs": [],
   "source": [
    "sc.pl.pca(canogamez_act, color = 'cytokine.condition', components = ['1,2','3,4','5,6','7,8'], ncols = 2)"
   ]
  },
  {
   "cell_type": "code",
   "execution_count": null,
   "id": "52cdb12b",
   "metadata": {},
   "outputs": [],
   "source": [
    "sc.pl.pca_variance_ratio(canogamez_act, log = True)"
   ]
  },
  {
   "cell_type": "markdown",
   "id": "2dee68e0",
   "metadata": {},
   "source": [
    "### UMAP"
   ]
  },
  {
   "cell_type": "code",
   "execution_count": null,
   "id": "f5917b80",
   "metadata": {},
   "outputs": [],
   "source": [
    "sc.pp.neighbors(canogamez_act, n_neighbors = 10, n_pcs = 40)\n",
    "sc.tl.umap(canogamez_act)"
   ]
  },
  {
   "cell_type": "code",
   "execution_count": null,
   "id": "934d67d5",
   "metadata": {},
   "outputs": [],
   "source": [
    "sc.pl.umap(canogamez_act, color = ['cytokine.condition','cell.type', 'donor.id'], wspace = 0.5)"
   ]
  },
  {
   "cell_type": "markdown",
   "id": "c98a1951",
   "metadata": {},
   "source": [
    "## Louvain Clustering"
   ]
  },
  {
   "cell_type": "markdown",
   "id": "a75da449",
   "metadata": {},
   "source": [
    "The Louvain algorthim was chosen for clustering as it was used by Cano-Gamez et al. "
   ]
  },
  {
   "cell_type": "markdown",
   "id": "d5fe9584",
   "metadata": {},
   "source": [
    "**! Caution: Rerunning your code will change the cluster composition due to randomness of the algorthim !**"
   ]
  },
  {
   "cell_type": "code",
   "execution_count": null,
   "id": "9cc59314",
   "metadata": {},
   "outputs": [],
   "source": [
    "sc.tl.louvain(canogamez_act, key_added = \"louvain_1.0\", random_state=1)"
   ]
  },
  {
   "cell_type": "code",
   "execution_count": null,
   "id": "b9d0e676",
   "metadata": {},
   "outputs": [],
   "source": [
    "sc.pl.umap(canogamez_act, color=['louvain_1.0', 'cytokine.condition','cell.type', 'donor.id'], wspace=0.5)"
   ]
  },
  {
   "cell_type": "markdown",
   "id": "024fcc80",
   "metadata": {},
   "source": [
    "### Explore composition of the clusters"
   ]
  },
  {
   "cell_type": "code",
   "execution_count": null,
   "id": "d3b879cf",
   "metadata": {},
   "outputs": [],
   "source": [
    "def count_pie(anndata, clustering, category):\n",
    "\n",
    "    \"\"\"generates a data frame with counts for a specific category within  \n",
    "       the clusters and, plots values as pie chart\"\"\"\n",
    "\n",
    "    # generate data frame with information for cluster\n",
    "    clusters_df = anndata.obs[str(clustering)].to_frame()\n",
    "    clusters_df[str(category)] = anndata.obs[str(category)]\n",
    "\n",
    "    # generate empty dataframe for counted values\n",
    "    number_clusters = len(np.unique(anndata.obs[str(clustering)]))\n",
    "    row_names = list(np.unique(anndata.obs[str(clustering)]))\n",
    "    row_names_long = ['cluster ' + name for name in row_names]\n",
    "    col_names = list(anndata.obs[str(category)].cat.categories)\n",
    "    df_cell_count = pd.DataFrame(0, columns=col_names,\n",
    "    index=row_names_long)\n",
    "\n",
    "    # fill dataframe with counts of the given categorie\n",
    "    for i in range(0, number_clusters):\n",
    "        cluster = clusters_df[str(clustering)] == str(i)\n",
    "        cells_cluster = clusters_df[cluster]\n",
    "        count_cells = cells_cluster.value_counts()\n",
    "        for ic, vc in count_cells.items():\n",
    "            df_cell_count.at['cluster ' + ic[0], ic[1]] = vc\n",
    "\n",
    "    # plot as piechart\n",
    "    from natsort import natsorted\n",
    "\n",
    "    df_cell_count_T = df_cell_count.T\n",
    "    df_cell_count_T\n",
    "    df_cell_count_T.reindex(natsorted(df_cell_count_T.columns, ), axis=1)\n",
    "\n",
    "    amount_plots = len(df_cell_count)\n",
    "    amount_cols = 4\n",
    "    amount_rows = int(np.ceil(amount_plots / amount_cols))\n",
    "    fig, axes = plt.subplots(nrows=amount_rows, ncols=amount_cols,\n",
    "                figsize=(15, 15))\n",
    "    fig.tight_layout()\n",
    "\n",
    "    for index, column in enumerate(df_cell_count_T):\n",
    "        current_ax = axes[index // amount_cols, index % amount_cols]\n",
    "        current_ax.set_title('{}'.format(column))\n",
    "        current_data = df_cell_count_T[column]\n",
    "        current_labels = list(current_data.index)\n",
    "        current_data = list(current_data)\n",
    "        current_ax.pie(current_data, labels=current_labels,\n",
    "        autopct='%1.1f%%', startangle=90)\n",
    "        current_ax.axis('equal')\n",
    "\n",
    "    return df_cell_count, plt.show()"
   ]
  },
  {
   "cell_type": "code",
   "execution_count": null,
   "id": "d2cdca6d",
   "metadata": {},
   "outputs": [],
   "source": [
    "count_pie(canogamez_act, 'louvain_1.0', 'cell.type')"
   ]
  },
  {
   "cell_type": "code",
   "execution_count": null,
   "id": "e12e5552",
   "metadata": {},
   "outputs": [],
   "source": [
    "count_pie(canogamez_act, 'louvain_1.0', 'cytokine.condition')"
   ]
  },
  {
   "cell_type": "markdown",
   "id": "479820b2",
   "metadata": {},
   "source": [
    "### Rank genes"
   ]
  },
  {
   "cell_type": "code",
   "execution_count": null,
   "id": "26d8c51a",
   "metadata": {},
   "outputs": [],
   "source": [
    "sc.tl.rank_genes_groups(canogamez_act, groupby = 'louvain_1.0', method = 'wilcoxon', use_raw = True)"
   ]
  },
  {
   "cell_type": "code",
   "execution_count": null,
   "id": "91b76396",
   "metadata": {},
   "outputs": [],
   "source": [
    "sc.pl.rank_genes_groups_matrixplot(canogamez_act, n_genes = 3, cmap = 'bwr', standard_scale = 'var', \n",
    "                                   values_to_plot = 'scores')"
   ]
  },
  {
   "cell_type": "markdown",
   "id": "7a40d244",
   "metadata": {},
   "source": [
    "Use identified genes to annotate `IFN high`, `HSP high` and `Mitotic` clusters"
   ]
  },
  {
   "cell_type": "markdown",
   "id": "25cb3365",
   "metadata": {},
   "source": [
    "### Cluster Annotation "
   ]
  },
  {
   "cell_type": "markdown",
   "id": "6bbc13a3",
   "metadata": {},
   "source": [
    "**Used marker genes**"
   ]
  },
  {
   "cell_type": "markdown",
   "id": "9069c926",
   "metadata": {},
   "source": [
    "|       T cell type /   differentiation state       |      Marker genes  mentioned in Cano-Gamez et al.      |   \n",
    "|:-------------------------------------------------:|:------------------------------------------------------:|\n",
    "| Tn/Th2                                            | GATA3, MAOA, LIMA1, MRPS26                             |   \n",
    "| Tn/Th17                                           | TNFRSF8, PALLD, RORA                                   |   \n",
    "| Tn/iTreg                                          | FOXP3, LMCD1, LGALS3, CCL5                             |   \n",
    "| Tn/Th17/iTreg                                     | IL2, DUSP2, TNF                                        |   \n",
    "| Tm/Th17/iTreg                                     | CCL5, LGALS3, TNFRSF8, BACH2, BATF3, AHR, IL17F, CTLA4 |   \n",
    "| central memory T cells  (Tcm)                     | PASK                                                   |   \n",
    "| effector memory T cells  (Tem)                    | IL7R, KLRB1, TNFSF13B                                  |   \n",
    "| terminally differentiated effector cells  (TEMRA) | PRF1, CCL4, GZMA, GZMH                                 |   \n",
    "| natural T regulatory cells  (nTreg)               | FOXP3, CTLA4                                           |   "
   ]
  },
  {
   "cell_type": "markdown",
   "id": "9b498fe7",
   "metadata": {},
   "source": [
    "| T cell type /  differentiation state  | Marker genes literature   |   \n",
    "|---------------------------------------|---------------------------|\n",
    "| T naive (Tn)                          | CCR7                      |   \n",
    "| central memory T cells (Tcm)          | FAS, IL2RB, PRDM1         |   \n",
    "| effector memory T cells (Tem)         | CXCR3, ITGAL, CCR5, TBX21 |   "
   ]
  },
  {
   "cell_type": "markdown",
   "id": "cb60ef0c",
   "metadata": {},
   "source": [
    "**Map marker genes on clusters**"
   ]
  },
  {
   "cell_type": "markdown",
   "id": "f01ca203",
   "metadata": {},
   "source": [
    "Tn/Th2"
   ]
  },
  {
   "cell_type": "code",
   "execution_count": null,
   "id": "7e7e433b",
   "metadata": {},
   "outputs": [],
   "source": [
    "sc.pl.umap(canogamez_act, color = ['louvain_1.0', 'GATA3', 'MAOA', 'LIMA1', 'MRPS26' ], legend_loc = 'on data', \n",
    "          wspace = 0.5)"
   ]
  },
  {
   "cell_type": "markdown",
   "id": "f5fac46d",
   "metadata": {},
   "source": [
    "Tn/Th17"
   ]
  },
  {
   "cell_type": "code",
   "execution_count": null,
   "id": "3575fb56",
   "metadata": {},
   "outputs": [],
   "source": [
    "sc.pl.umap(canogamez_act, color = ['louvain_1.0', 'TNFRSF8', 'PALLD', 'RORA'], legend_loc = 'on data', \n",
    "          wspace = 0.5)"
   ]
  },
  {
   "cell_type": "markdown",
   "id": "d99c2cf5",
   "metadata": {},
   "source": [
    "Tn/iTreg"
   ]
  },
  {
   "cell_type": "code",
   "execution_count": null,
   "id": "aae74212",
   "metadata": {},
   "outputs": [],
   "source": [
    "sc.pl.umap(canogamez_act, color = ['louvain_1.0','IL2', 'DUSP2', 'TNF'], legend_loc = 'on data', \n",
    "          wspace = 0.5)"
   ]
  },
  {
   "cell_type": "markdown",
   "id": "c216efff",
   "metadata": {},
   "source": [
    "Tn/Th17/iTreg"
   ]
  },
  {
   "cell_type": "code",
   "execution_count": null,
   "id": "f7593146",
   "metadata": {},
   "outputs": [],
   "source": [
    "sc.pl.umap(canogamez_act, color = ['louvain_1.0','IL2', 'DUSP2', 'TNF'], legend_loc = 'on data', wspace = 0.5)"
   ]
  },
  {
   "cell_type": "markdown",
   "id": "bbdfc598",
   "metadata": {},
   "source": [
    "Tm/Th17/iTreg"
   ]
  },
  {
   "cell_type": "code",
   "execution_count": null,
   "id": "a85a0933",
   "metadata": {},
   "outputs": [],
   "source": [
    "sc.pl.umap(canogamez_act, color = ['louvain_1.0','CCL5', 'LGALS3', 'TNFRSF8', 'BACH2', 'BATF3', 'AHR', \n",
    "                                 'IL17F', 'CTLA4'], legend_loc = 'on data', wspace = 0.5)"
   ]
  },
  {
   "cell_type": "markdown",
   "id": "166dcc2d",
   "metadata": {},
   "source": [
    "Tcm"
   ]
  },
  {
   "cell_type": "code",
   "execution_count": null,
   "id": "c24aa1e6",
   "metadata": {},
   "outputs": [],
   "source": [
    "sc.pl.umap(canogamez_act, color = ['louvain_1.0','FAS', 'IL2RB', 'PRDM1', 'PASK'], legend_loc = 'on data', \n",
    "           wspace = 0.5)"
   ]
  },
  {
   "cell_type": "markdown",
   "id": "ebc014ed",
   "metadata": {},
   "source": [
    "Tem"
   ]
  },
  {
   "cell_type": "code",
   "execution_count": null,
   "id": "6e2f960d",
   "metadata": {},
   "outputs": [],
   "source": [
    "sc.pl.umap(canogamez_act, color = ['louvain_1.0', 'CXCR3', 'ITGAL', 'CCR5', 'TBX21', 'IL7R', 'KLRB1', 'TNFSF13B'], \n",
    "           legend_loc = 'on data', wspace = 0.5)"
   ]
  },
  {
   "cell_type": "markdown",
   "id": "62aa0abe",
   "metadata": {},
   "source": [
    "TEMRA"
   ]
  },
  {
   "cell_type": "code",
   "execution_count": null,
   "id": "53ebf3a5",
   "metadata": {},
   "outputs": [],
   "source": [
    "sc.pl.umap(canogamez_act, color = ['louvain_1.0','PRF1', 'CCL4', 'GZMA', 'GZMH'], legend_loc = 'on data',\n",
    "           wspace = 0.5)"
   ]
  },
  {
   "cell_type": "markdown",
   "id": "060a8781",
   "metadata": {},
   "source": [
    "nTreg"
   ]
  },
  {
   "cell_type": "code",
   "execution_count": null,
   "id": "cd7174e3",
   "metadata": {},
   "outputs": [],
   "source": [
    "sc.pl.umap(canogamez_act, color=['louvain_1.0','FOXP3', 'CTLA4'], legend_loc='on data', \n",
    "          wspace=0.5) "
   ]
  },
  {
   "cell_type": "markdown",
   "id": "50e8f069",
   "metadata": {},
   "source": [
    "**Add annotation to AnnData**"
   ]
  },
  {
   "cell_type": "markdown",
   "id": "edfa8a40",
   "metadata": {},
   "source": [
    "Create annotation"
   ]
  },
  {
   "cell_type": "code",
   "execution_count": null,
   "id": "d992a75e",
   "metadata": {},
   "outputs": [],
   "source": [
    "# adjust to individually identified clusters \n",
    "cluster_annotation = {\n",
    "    '8':'Th0/Tn',\n",
    "    '3':'Th0/Tcm1',\n",
    "    '16':'Th0/Tcm2',\n",
    "    '9':'Th0/Tem',\n",
    "    '5':'Th0/Temra',\n",
    "    '15':'Th17/iTreg/Tn',\n",
    "    '13':'Th17/iTreg/Tcm1',\n",
    "    '7':'Th17/iTreg/Tcm2',\n",
    "    '0':'Th17/iTreg/Tem',\n",
    "    '10':'Th17/iTreg/Temra',\n",
    "    '6':'iTreg/Tn',\n",
    "    '1':'Th17/iTreg/Tn',\n",
    "    '4':'Th2/Tn',\n",
    "    '12':'nTreg',\n",
    "    '11':'IFN high',\n",
    "    '2':'HSP high',\n",
    "    '14':'Mitotic'\n",
    "}"
   ]
  },
  {
   "cell_type": "markdown",
   "id": "5ab2703a",
   "metadata": {},
   "source": [
    "Add annotation to data"
   ]
  },
  {
   "cell_type": "code",
   "execution_count": null,
   "id": "82af09ff",
   "metadata": {},
   "outputs": [],
   "source": [
    "canogamez_act.obs['cell type'] = canogamez_act.obs['louvain_1.0'].map(cluster_annotation).astype('category')"
   ]
  },
  {
   "cell_type": "markdown",
   "id": "8d0f86cf",
   "metadata": {},
   "source": [
    "Plotting"
   ]
  },
  {
   "cell_type": "code",
   "execution_count": null,
   "id": "cbb585e6",
   "metadata": {},
   "outputs": [],
   "source": [
    "sc.pl.umap(canogamez_act, color='cell type', legend_loc='on data',\n",
    "           frameon=False, legend_fontsize=5)"
   ]
  },
  {
   "cell_type": "markdown",
   "id": "2cfb7134",
   "metadata": {},
   "source": [
    "### Save data"
   ]
  },
  {
   "cell_type": "code",
   "execution_count": null,
   "id": "68cbda1a",
   "metadata": {},
   "outputs": [],
   "source": [
    "canogamez_act.write(results_file)"
   ]
  }
 ],
 "metadata": {
  "kernelspec": {
   "display_name": "Python 3",
   "language": "python",
   "name": "python3"
  },
  "language_info": {
   "codemirror_mode": {
    "name": "ipython",
    "version": 3
   },
   "file_extension": ".py",
   "mimetype": "text/x-python",
   "name": "python",
   "nbconvert_exporter": "python",
   "pygments_lexer": "ipython3",
   "version": "3.9.4"
  }
 },
 "nbformat": 4,
 "nbformat_minor": 5
}
