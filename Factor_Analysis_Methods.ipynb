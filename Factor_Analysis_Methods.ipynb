{
 "cells": [
  {
   "cell_type": "markdown",
   "id": "c958e595",
   "metadata": {},
   "source": [
    "# Application of different factor analysis methods"
   ]
  },
  {
   "cell_type": "markdown",
   "id": "c6e81d47",
   "metadata": {},
   "source": [
    "scRNA-seq data is highly dimensional as every analyzed genes corresponds to a new dimension. Thus, dimension reduction methods are necassary to enable the work with the data. This allows not only to visualize the data, but is also the basis for clustering the data. "
   ]
  },
  {
   "cell_type": "markdown",
   "id": "bcdfc864",
   "metadata": {},
   "source": [
    "## Note: Running this notebook will take approx. 2h due to the calculation of the Latent Dirichlet Allocation (LDA) and Linear Discriminant Analysis"
   ]
  },
  {
   "cell_type": "markdown",
   "id": "bc5c5855",
   "metadata": {},
   "source": [
    "**Loading the necessary libraries**"
   ]
  },
  {
   "cell_type": "code",
   "execution_count": null,
   "id": "c9c70dde",
   "metadata": {},
   "outputs": [],
   "source": [
    "import scanpy as sc\n",
    "import pandas as pd\n",
    "import numpy as np\n",
    "import matplotlib.pyplot as plt\n",
    "import sklearn\n",
    "import plotly.express as px\n",
    "from scipy.sparse import csr_matrix"
   ]
  },
  {
   "cell_type": "code",
   "execution_count": null,
   "id": "e203857f",
   "metadata": {},
   "outputs": [],
   "source": [
    "# settings can be adapted individually\n",
    "sc.settings.verbosity = 3            \n",
    "sc.logging.print_header()             \n",
    "sc.settings.set_figure_params(dpi = 100, format = 'png')"
   ]
  },
  {
   "cell_type": "markdown",
   "id": "237337ee",
   "metadata": {},
   "source": [
    "**Set random seed**"
   ]
  },
  {
   "cell_type": "code",
   "execution_count": null,
   "id": "138007b3",
   "metadata": {},
   "outputs": [],
   "source": [
    "rng_seed = 2021\n",
    "rng = np.random.RandomState(rng_seed)"
   ]
  },
  {
   "cell_type": "markdown",
   "id": "79a9bcb4",
   "metadata": {},
   "source": [
    "## Factor Analysis algorithms"
   ]
  },
  {
   "cell_type": "markdown",
   "id": "e5d5d81d",
   "metadata": {},
   "source": [
    "### Principal component analysis PCA"
   ]
  },
  {
   "cell_type": "markdown",
   "id": "e922e135",
   "metadata": {},
   "source": [
    "- find most variation in the data \n",
    "- Principal Components are uncorrelated linear combinations of the original variables"
   ]
  },
  {
   "cell_type": "markdown",
   "id": "f791e149",
   "metadata": {},
   "source": [
    "*Note: PCA calculation via sklearn and scanpy give similar results*"
   ]
  },
  {
   "cell_type": "markdown",
   "id": "4a20d1fe",
   "metadata": {},
   "source": [
    "Load preprocessed data *(see notebook Data_Preprocessing)*"
   ]
  },
  {
   "cell_type": "code",
   "execution_count": null,
   "id": "6c1ee8f1",
   "metadata": {},
   "outputs": [],
   "source": [
    "# load preprocessed data \n",
    "canogamez = sc.read_h5ad(\"result_files/canogamez_preprocessing.h5ad\")  # change to your data path "
   ]
  },
  {
   "cell_type": "markdown",
   "id": "a95cb17e",
   "metadata": {},
   "source": [
    "Calculate PCA"
   ]
  },
  {
   "cell_type": "code",
   "execution_count": null,
   "id": "882238f0",
   "metadata": {},
   "outputs": [],
   "source": [
    "sc.tl.pca(canogamez, svd_solver='arpack', random_state=rng)"
   ]
  },
  {
   "cell_type": "markdown",
   "id": "f9717ed6",
   "metadata": {},
   "source": [
    "Plotting"
   ]
  },
  {
   "cell_type": "code",
   "execution_count": null,
   "id": "978e4899",
   "metadata": {},
   "outputs": [],
   "source": [
    "fig = px.scatter(canogamez.obsm[\"X_pca\"], x = 0, y = 1, color = canogamez.obs['cytokine.condition'], title='PCA', \n",
    "                 labels = {\n",
    "                     \"0\": \"PC1\",\n",
    "                     \"1\": \"PC2\",\n",
    "                 })\n",
    "\n",
    "fig.show()"
   ]
  },
  {
   "cell_type": "markdown",
   "id": "5913b55e",
   "metadata": {},
   "source": [
    "### Independent component analysis ICA"
   ]
  },
  {
   "cell_type": "markdown",
   "id": "2ee603a0",
   "metadata": {},
   "source": [
    "- finds the linear transformation that minimizes the statistical dependency between the different sources"
   ]
  },
  {
   "cell_type": "markdown",
   "id": "3a1cf079",
   "metadata": {},
   "source": [
    "Load preprocessed data *(see notebook Data_Preprocessing)*"
   ]
  },
  {
   "cell_type": "code",
   "execution_count": null,
   "id": "4cd9d7ff",
   "metadata": {},
   "outputs": [],
   "source": [
    "# load preprocessed data \n",
    "canogamez = sc.read_h5ad(\"result_files/canogamez_preprocessing.h5ad\")  # change to your data path "
   ]
  },
  {
   "cell_type": "code",
   "execution_count": null,
   "id": "a92d8cd5",
   "metadata": {},
   "outputs": [],
   "source": [
    "# save AnnData as CRS matrix \n",
    "# positions of null values are saved instead of storing all null values itself  \n",
    "# -> faster calculation and less memory usage\n",
    "canogamez.X = csr_matrix(canogamez.X) "
   ]
  },
  {
   "cell_type": "markdown",
   "id": "9d203638",
   "metadata": {},
   "source": [
    "Calculate ICA"
   ]
  },
  {
   "cell_type": "code",
   "execution_count": null,
   "id": "dcaad0ac",
   "metadata": {},
   "outputs": [],
   "source": [
    "# function to calculate ICA \n",
    "\n",
    "def ica(adata, n_components, inplace = True):\n",
    "    '''Computes the ICA on AnnData'''\n",
    "    from sklearn.decomposition import FastICA\n",
    "    ica_transformer = FastICA(n_components = n_components, random_state = rng) \n",
    "    x_ica = ica_transformer.fit_transform(adata.X.toarray())\n",
    "    if inplace:\n",
    "        adata.obsm['X_ica'] = x_ica\n",
    "        adata.varm['ICs'] = ica_transformer.components_.T\n",
    "    else:\n",
    "        return ica_transformer"
   ]
  },
  {
   "cell_type": "code",
   "execution_count": null,
   "id": "404a8edf",
   "metadata": {},
   "outputs": [],
   "source": [
    "ica(canogamez, 40) # calculate 40 components, taken for UMAP calculation based on PCA"
   ]
  },
  {
   "cell_type": "markdown",
   "id": "58282715",
   "metadata": {},
   "source": [
    "Plotting"
   ]
  },
  {
   "cell_type": "code",
   "execution_count": null,
   "id": "04f39de3",
   "metadata": {},
   "outputs": [],
   "source": [
    "fig = px.scatter(canogamez.obsm[\"X_ica\"], x = 0, y = 1, color = canogamez.obs['cytokine.condition'], \n",
    "                 title = 'ICA', \n",
    "                 labels = {\n",
    "                     \"0\": \"IC1\",\n",
    "                     \"1\": \"IC2\",\n",
    "                 })\n",
    "\n",
    "fig.show()"
   ]
  },
  {
   "cell_type": "markdown",
   "id": "237789c7",
   "metadata": {},
   "source": [
    "### Non-negative matrix factorization NMF"
   ]
  },
  {
   "cell_type": "markdown",
   "id": "aaed0ecb",
   "metadata": {},
   "source": [
    "- only with non-negative values \n",
    "- decomposition of matrix V = m x n into the two matrices: W = m x r as features set, and H = r x n as hidden variables"
   ]
  },
  {
   "cell_type": "markdown",
   "id": "f4a4d203",
   "metadata": {},
   "source": [
    "Load raw data"
   ]
  },
  {
   "cell_type": "code",
   "execution_count": null,
   "id": "1f24a8dd",
   "metadata": {},
   "outputs": [],
   "source": [
    "canogamez = sc.read_h5ad(\"/corgi/scdata/henriksson/canogamez/cleaned.h5ad\") # change to your data path "
   ]
  },
  {
   "cell_type": "code",
   "execution_count": null,
   "id": "607d577a",
   "metadata": {},
   "outputs": [],
   "source": [
    "# set `zero_center to `False` to avoid negative values\n",
    "sc.pp.scale(canogamez, zero_center = False)"
   ]
  },
  {
   "cell_type": "markdown",
   "id": "b517ce72",
   "metadata": {},
   "source": [
    "Calculate NMF"
   ]
  },
  {
   "cell_type": "code",
   "execution_count": null,
   "id": "b8cbd8f5",
   "metadata": {},
   "outputs": [],
   "source": [
    "def nmf(adata, n_components, inplace = True):\n",
    "    '''Computes the NFM on AnnData'''\n",
    "    from sklearn.decomposition import NMF\n",
    "    model = NMF(n_components = n_components, init = 'random', random_state = 0, max_iter = 10000) \n",
    "    model = model.fit(adata.X.toarray())\n",
    "    nmf_features = model.transform(adata.X.toarray()) \n",
    "    if inplace:\n",
    "        adata.obsm['X_nfm'] = nmf_features\n",
    "        adata.varm['NFMs'] = model.components_.T\n",
    "    else:\n",
    "        return model"
   ]
  },
  {
   "cell_type": "code",
   "execution_count": null,
   "id": "a7de62e6",
   "metadata": {},
   "outputs": [],
   "source": [
    "nmf(canogamez,16) # calculate 16 components as original AnnData is composed of 16 samples"
   ]
  },
  {
   "cell_type": "markdown",
   "id": "7788c987",
   "metadata": {},
   "source": [
    "Plotting"
   ]
  },
  {
   "cell_type": "code",
   "execution_count": null,
   "id": "4f7c051b",
   "metadata": {},
   "outputs": [],
   "source": [
    "fig = px.scatter(canogamez.obsm[\"X_nfm\"], x = 0, y = 1, color = canogamez.obs['cytokine.condition'], \n",
    "                 title = 'NMF', \n",
    "                 labels = {\n",
    "                     \"0\": \"Component 1\",\n",
    "                     \"1\": \"Component 2\",\n",
    "                 })\n",
    "\n",
    "fig.show()"
   ]
  },
  {
   "cell_type": "markdown",
   "id": "99c5cc72",
   "metadata": {},
   "source": [
    "### Latent Dirichlet Allocation (LDA)"
   ]
  },
  {
   "cell_type": "markdown",
   "id": "c539f74a",
   "metadata": {},
   "source": [
    "- takes the distribution of genes to represent each cell as a mixture of de novo identified topics"
   ]
  },
  {
   "cell_type": "markdown",
   "id": "c310a9bc",
   "metadata": {},
   "source": [
    "Load raw data"
   ]
  },
  {
   "cell_type": "code",
   "execution_count": null,
   "id": "edbcd343",
   "metadata": {},
   "outputs": [],
   "source": [
    "canogamez = sc.read_h5ad(\"/corgi/scdata/henriksson/canogamez/cleaned.h5ad\") # change to your data path "
   ]
  },
  {
   "cell_type": "code",
   "execution_count": null,
   "id": "32a5e093",
   "metadata": {},
   "outputs": [],
   "source": [
    "sc.pp.scale(canogamez, zero_center=False)"
   ]
  },
  {
   "cell_type": "code",
   "execution_count": null,
   "id": "fffa296c",
   "metadata": {},
   "outputs": [],
   "source": [
    "canogamez.X = csr_matrix(canogamez.X) "
   ]
  },
  {
   "cell_type": "markdown",
   "id": "58841510",
   "metadata": {},
   "source": [
    "Calculate LDA"
   ]
  },
  {
   "cell_type": "code",
   "execution_count": null,
   "id": "f52ad3d3",
   "metadata": {},
   "outputs": [],
   "source": [
    "def LaDiAl(adata , inplace=True):\n",
    "    '''Computes the Latent Dirichlet Allocation on AnnData'''\n",
    "    from sklearn.decomposition import LatentDirichletAllocation \n",
    "    lda = LatentDirichletAllocation()\n",
    "    model = lda.fit(adata.X.toarray())\n",
    "    if inplace:\n",
    "        adata.obsm['X_lda'] = lda.transform(adata.X)\n",
    "        adata.varm['lda'] = lda.components_.T \n",
    "    else :\n",
    "        return model"
   ]
  },
  {
   "cell_type": "code",
   "execution_count": null,
   "id": "940bd27a",
   "metadata": {},
   "outputs": [],
   "source": [
    "LaDiAl(canogamez) # no number of components given, calculated until converging "
   ]
  },
  {
   "cell_type": "markdown",
   "id": "b93576e6",
   "metadata": {},
   "source": [
    "Plotting"
   ]
  },
  {
   "cell_type": "code",
   "execution_count": null,
   "id": "bf848f61",
   "metadata": {},
   "outputs": [],
   "source": [
    "fig = px.scatter(canogamez.obsm[\"X_lda\"], x = 0, y = 1, color = canogamez.obs['cytokine.condition'], \n",
    "                 title = 'LDA', \n",
    "                 labels = {\n",
    "                     \"0\": \"Component 1\",\n",
    "                     \"1\": \"Component 2\",\n",
    "                 })\n",
    "\n",
    "fig.show()"
   ]
  },
  {
   "cell_type": "markdown",
   "id": "268e3f8a",
   "metadata": {},
   "source": [
    "### Linear Discriminant Analysis"
   ]
  },
  {
   "cell_type": "markdown",
   "id": "1a259cdc",
   "metadata": {},
   "source": [
    "- maximization of the distances between the group variance and the minimization of the variation within a category\n",
    "- data classification instead of feature classification"
   ]
  },
  {
   "cell_type": "markdown",
   "id": "272c8521",
   "metadata": {},
   "source": [
    "Load raw data"
   ]
  },
  {
   "cell_type": "code",
   "execution_count": null,
   "id": "ae2bb5e0",
   "metadata": {},
   "outputs": [],
   "source": [
    "canogamez = sc.read_h5ad(\"/corgi/scdata/henriksson/canogamez/cleaned.h5ad\")"
   ]
  },
  {
   "cell_type": "code",
   "execution_count": null,
   "id": "87173535",
   "metadata": {},
   "outputs": [],
   "source": [
    "sc.pp.scale(canogamez, zero_center = False)"
   ]
  },
  {
   "cell_type": "code",
   "execution_count": null,
   "id": "26bc7984",
   "metadata": {},
   "outputs": [],
   "source": [
    "canogamez.X = csr_matrix(canogamez.X)"
   ]
  },
  {
   "cell_type": "markdown",
   "id": "3408efb6",
   "metadata": {},
   "source": [
    "Calculate Linear Discriminant Analysis"
   ]
  },
  {
   "cell_type": "code",
   "execution_count": null,
   "id": "5fb208cd",
   "metadata": {},
   "outputs": [],
   "source": [
    "def LiDiAn(adata, y, inplace = True):\n",
    "    '''Computes the Linear Discriminant Analysis on AnnData'''\n",
    "    from sklearn.discriminant_analysis import LinearDiscriminantAnalysis as LDA\n",
    "    n_components = int(len(y.categories) - 1)\n",
    "    LDA = LDA(n_components = n_components) \n",
    "    model = LDA.fit(adata.X.toarray(), y)\n",
    "    if inplace:\n",
    "        adata.obsm['X_LDA'] = LDA.transform(adata.X.toarray()) \n",
    "        adata.varm['LDAs'] = LDA.coef_.T\n",
    "    else :\n",
    "        return model"
   ]
  },
  {
   "cell_type": "markdown",
   "id": "1ac8d3be",
   "metadata": {},
   "source": [
    "Algorithm needs an array `y` with given target values for each cell. Here the annotation `cytokine.condition` was used. "
   ]
  },
  {
   "cell_type": "code",
   "execution_count": null,
   "id": "2e7d4e45",
   "metadata": {},
   "outputs": [],
   "source": [
    "cytokine = canogamez.obs['cytokine.condition']\n",
    "cytokine = pd.Series(pd.Categorical(cytokine))\n",
    "y = cytokine.array"
   ]
  },
  {
   "cell_type": "code",
   "execution_count": null,
   "id": "835186e3",
   "metadata": {},
   "outputs": [],
   "source": [
    "LiDiAn(canogamez, y)"
   ]
  },
  {
   "cell_type": "markdown",
   "id": "bd8adc3f",
   "metadata": {},
   "source": [
    "Plotting"
   ]
  },
  {
   "cell_type": "code",
   "execution_count": null,
   "id": "aff3148a",
   "metadata": {},
   "outputs": [],
   "source": [
    "fig = px.scatter(canogamez.obsm[\"X_LDA\"], x = 0, y = 1, color = canogamez.obs['cytokine.condition'], \n",
    "                 title = 'Linear Discriminant Analysis', \n",
    "                 labels = {\n",
    "                     \"0\": \"Component 1\",\n",
    "                     \"1\": \"Component 2\",\n",
    "                 })\n",
    "\n",
    "fig.show()"
   ]
  },
  {
   "cell_type": "markdown",
   "id": "6a1259c0",
   "metadata": {},
   "source": [
    "## Data-driving genes identified by the different Factor Analysis methods"
   ]
  },
  {
   "cell_type": "code",
   "execution_count": null,
   "id": "bea10996",
   "metadata": {},
   "outputs": [],
   "source": [
    "# calculate PCA\n",
    "canogamez = sc.read_h5ad(\"result_files/canogamez_preprocessing.h5ad\")  # change to your data path \n",
    "sc.tl.pca(canogamez, svd_solver = 'arpack', random_state = rng)"
   ]
  },
  {
   "cell_type": "code",
   "execution_count": null,
   "id": "ed383b1d",
   "metadata": {},
   "outputs": [],
   "source": [
    "# Add 'gene_ids' to .var \n",
    "gene_names = canogamez.var.index.to_list()\n",
    "canogamez.var['gene_ids'] = gene_names"
   ]
  },
  {
   "cell_type": "markdown",
   "id": "52797aa8",
   "metadata": {},
   "source": [
    "*Example Analysis based on PCA Factor Analysis* "
   ]
  },
  {
   "cell_type": "markdown",
   "id": "53bc268f",
   "metadata": {},
   "source": [
    "**Change `.varm[]` and `.obsm[]` to the variable names chosen for the different factor analysis calculations to exprore the genes in the components identified by the other methods**"
   ]
  },
  {
   "cell_type": "markdown",
   "id": "1c38c625",
   "metadata": {},
   "source": [
    "### Plotting"
   ]
  },
  {
   "cell_type": "code",
   "execution_count": null,
   "id": "9e0b99fe",
   "metadata": {},
   "outputs": [],
   "source": [
    "# code based on: https://nbisweden.github.io/workshop-scRNAseq/labs/compiled/scanpy/scanpy_02_dim_reduction.html\n",
    "# plot genes in first 4 PCs \n",
    "genes = canogamez.var['gene_ids']\n",
    "\n",
    "for pc in [1,2,3,4]:\n",
    "    g = canogamez.varm['PCs'][:,pc-1]\n",
    "    o = np.argsort(g)\n",
    "    sel = np.concatenate((o[:10],o[-10:])).tolist()\n",
    "    emb = canogamez.obsm['X_pca'][:,pc-1]\n",
    "    tempdata = canogamez[np.argsort(emb),]\n",
    "    sc.pl.heatmap(tempdata, var_names = genes[sel].index.tolist(), \n",
    "                  groupby='cell.type', swap_axes = True, use_raw=False) "
   ]
  },
  {
   "cell_type": "markdown",
   "id": "df0405a2",
   "metadata": {},
   "source": [
    "### Access genes in the components"
   ]
  },
  {
   "cell_type": "code",
   "execution_count": null,
   "id": "b4149967",
   "metadata": {},
   "outputs": [],
   "source": [
    "# get gene names in first component\n",
    "g = canogamez.varm['PCs'][:,0]\n",
    "o = np.argsort(g)\n",
    "sel = np.concatenate((o[:10],o[-10:])).tolist()\n",
    "genes_pc1 = genes[sel].index.tolist() "
   ]
  },
  {
   "cell_type": "markdown",
   "id": "db04b3a7",
   "metadata": {},
   "source": [
    "### Gene Set Enrichment Analysis"
   ]
  },
  {
   "cell_type": "code",
   "execution_count": null,
   "id": "7e3e0f38",
   "metadata": {},
   "outputs": [],
   "source": [
    "import gseapy as gp\n",
    "from gseapy.plot import dotplot"
   ]
  },
  {
   "cell_type": "code",
   "execution_count": null,
   "id": "48b9aa8e",
   "metadata": {},
   "outputs": [],
   "source": [
    "enr = gp.enrichr(gene_list = genes_pc1,\n",
    "                 gene_sets = ['MSigDB_Hallmark_2020'], # alternative sets : https://maayanlab.cloud/Enrichr/#stats\n",
    "                 organism = 'Human',\n",
    "                 cutoff = 1 # value should be in the range(0,1)\n",
    "                )"
   ]
  },
  {
   "cell_type": "code",
   "execution_count": null,
   "id": "de9a7068",
   "metadata": {},
   "outputs": [],
   "source": [
    "dotplot(enr.res2d,cmap='viridis_r', cutoff=1)"
   ]
  },
  {
   "cell_type": "markdown",
   "id": "1cffc43b",
   "metadata": {},
   "source": [
    "## Cluster Identification"
   ]
  },
  {
   "cell_type": "markdown",
   "id": "91ffc237",
   "metadata": {},
   "source": [
    "The by the different factor analysis calculated components can be used for further analysis in scanpy (similar to notebooks *'Exploring_Cell-Types_in_UNS_data.ipynb'* and *'Exploring_Cell-Types_in_stimulated_data.ipynb'*). For this purpose the calculation has to be stored under the variable name of the PCA, e.g. `adata.obsm['X_ica']` as `canogamez.obsm['X_pca']` and `adata.varm['ICs']` as `canogamez.varm['PCs']`. "
   ]
  }
 ],
 "metadata": {
  "kernelspec": {
   "display_name": "Python 3",
   "language": "python",
   "name": "python3"
  },
  "language_info": {
   "codemirror_mode": {
    "name": "ipython",
    "version": 3
   },
   "file_extension": ".py",
   "mimetype": "text/x-python",
   "name": "python",
   "nbconvert_exporter": "python",
   "pygments_lexer": "ipython3",
   "version": "3.9.4"
  }
 },
 "nbformat": 4,
 "nbformat_minor": 5
}
